{
 "cells": [
  {
   "cell_type": "markdown",
   "metadata": {},
   "source": [
    "### Problema 1\n",
    "\n",
    "Para este ejercicio, escribirás una lógica condicional que imprima una advertencia si un asteroide se acerca a la Tierra demasiado rápido. La velocidad del asteroide varía dependiendo de lo cerca que esté del sol, y cualquier velocidad superior a 25 kilómetros por segundo (km/s) merece una advertencia.\n",
    "\n",
    "Un asteroide se acerca, y viaja a una velocidad de 49 km/s."
   ]
  },
  {
   "cell_type": "code",
   "execution_count": 1,
   "metadata": {},
   "outputs": [
    {
     "name": "stdout",
     "output_type": "stream",
     "text": [
      "EL ASTERIODE SE ACERCA MUY RAPIDO!!!!\n"
     ]
    }
   ],
   "source": [
    "velasteriode = 49\n",
    "if velasteriode > 25:\n",
    "    print(\"EL ASTERIODE SE ACERCA MUY RAPIDO!!!!\")\n",
    "else:\n",
    "    print(\"Estamos fuera de peligro\")    "
   ]
  },
  {
   "cell_type": "markdown",
   "metadata": {},
   "source": [
    "### Problema 2\n",
    "Si un asteroide entra en la atmósfera de la Tierra a una velocidad mayor o igual a 20 km/s, a veces produce un rayo de luz que se puede ver desde la Tierra. Escribe la lógica condicional que usa declaraciones if, else, y elif para alertar a las personas de todo el mundo que deben buscar un asteroide en el cielo. ¡Hay uno que se dirige a la tierra ahora a una velocidad de 19 km/s!"
   ]
  },
  {
   "cell_type": "code",
   "execution_count": 5,
   "metadata": {},
   "outputs": [
    {
     "name": "stdout",
     "output_type": "stream",
     "text": [
      "No se ve nada :c\n"
     ]
    }
   ],
   "source": [
    "velast = 1\n",
    "if velast > 20:\n",
    "    print(\"VE ARRIBA, HAY UN ASTEROIDE!!\")\n",
    "elif velast == 20:\n",
    "    print(\"VE ARRIBA, HAY UN ASTEROIDE!!\")\n",
    "else:\n",
    "    print(\"No se ve nada :c\")    "
   ]
  },
  {
   "cell_type": "markdown",
   "metadata": {},
   "source": [
    "### Problema 3\n",
    "*Los asteroides de menos de 25 metros en su dimensión más grande probablemente se quemarán a medida que entren en la atmósfera de la Tierra.\n",
    "\n",
    "Si una pieza de un asteroide que es más grande que 25 metros pero más pequeña que 1000 metros golpeara la Tierra, causaría mucho daño.\n",
    "También discutimos en el ejercicio anterior que:\n",
    "\n",
    "La velocidad del asteroide varía en función de lo cerca que esté del sol, y cualquier velocidad superior a 25 kilómetros por segundo (km/s) merece una advertencia.\n",
    "Si un asteroide entra en la atmósfera de la Tierra a una velocidad mayor o igual a 20 km/s, a veces produce un rayo de luz que se puede ver desde la Tierra."
   ]
  },
  {
   "cell_type": "code",
   "execution_count": 9,
   "metadata": {},
   "outputs": [
    {
     "name": "stdout",
     "output_type": "stream",
     "text": [
      "No hay nada\n"
     ]
    }
   ],
   "source": [
    "tamast = 50\n",
    "velaste = 19\n",
    "\n",
    "if tamast > 25 and velaste > 25:\n",
    "    print(\"CUIDADO UN ASTEROIDE GRANDE SE ACERCA MUY RAPIDO A LA TIERRA!!\")\n",
    "elif velaste >= 20:\n",
    "    print(\"VE ARRIBA, HAY UN ASTEROIDE!!\")\n",
    "elif tamast < 25:\n",
    "    print(\"No hay nada\")\n",
    "else:\n",
    "    print(\"No hay nada\")            "
   ]
  }
 ],
 "metadata": {
  "interpreter": {
   "hash": "d3d9cf5e97c10939f953dc2bd1a53b832b83c85c6162d734738d4fbac4107860"
  },
  "kernelspec": {
   "display_name": "Python 3.10.2 64-bit",
   "language": "python",
   "name": "python3"
  },
  "language_info": {
   "codemirror_mode": {
    "name": "ipython",
    "version": 3
   },
   "file_extension": ".py",
   "mimetype": "text/x-python",
   "name": "python",
   "nbconvert_exporter": "python",
   "pygments_lexer": "ipython3",
   "version": "3.10.2"
  },
  "orig_nbformat": 4
 },
 "nbformat": 4,
 "nbformat_minor": 2
}
