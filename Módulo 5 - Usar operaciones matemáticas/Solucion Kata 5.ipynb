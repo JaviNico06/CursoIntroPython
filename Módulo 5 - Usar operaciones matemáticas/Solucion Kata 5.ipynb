{
 "cells": [
  {
   "cell_type": "markdown",
   "metadata": {},
   "source": [
    "## Ejercicio 1 Kata 5\n",
    "Exploremos cómo podemos crear un programa que pueda calcular la distancia entre dos planetas. Comenzaremos usando dos distancias de planetas: Tierra (149.597.870 km) y Júpiter (778.547.200 km)."
   ]
  },
  {
   "cell_type": "code",
   "execution_count": 2,
   "metadata": {},
   "outputs": [
    {
     "name": "stdout",
     "output_type": "stream",
     "text": [
      "628949330\n",
      "390577534\n"
     ]
    }
   ],
   "source": [
    "distEarth = 149597870\n",
    "distJupiter = 778547200\n",
    "\n",
    "rest = distEarth - distJupiter\n",
    "distMiles = rest * 0.621\n",
    "\n",
    "print(abs(rest))\n",
    "print(abs(round(distMiles)))"
   ]
  },
  {
   "cell_type": "markdown",
   "metadata": {},
   "source": [
    "## Ejercicio 2\n",
    "Crear una aplicación para trabajar con números y entrada de usuario"
   ]
  },
  {
   "cell_type": "code",
   "execution_count": 1,
   "metadata": {},
   "outputs": [
    {
     "name": "stdout",
     "output_type": "stream",
     "text": [
      "La distancia en kilometros es: 91700000\n",
      "La distancia en millas es: 56945700\n"
     ]
    }
   ],
   "source": [
    "primerPlaneta = input(\"Escriba la distancia del primer planeta en Km: \")\n",
    "segundoPlaneta = input(\"Escriba la distancia del segundo planeta en Km: \")\n",
    "#Ocupe los valores de mercurio y la tierra\n",
    "primerPlaneta = int(primerPlaneta)\n",
    "segundoPlaneta = int(segundoPlaneta)\n",
    "\n",
    "op = segundoPlaneta - primerPlaneta\n",
    "convMiles = op * 0.621\n",
    "#Aqui lo converti a String para que se concatenara el texto y se viera mejor\n",
    "print(\"La distancia en kilometros es: \" + str(abs(op)))\n",
    "print(\"La distancia en millas es: \" + str(abs(round(convMiles))))"
   ]
  }
 ],
 "metadata": {
  "interpreter": {
   "hash": "50738450534fa8316e0a7a151dc30297b7768032e64517062a90416affc25388"
  },
  "kernelspec": {
   "display_name": "Python 3.10.2 64-bit (windows store)",
   "language": "python",
   "name": "python3"
  },
  "language_info": {
   "codemirror_mode": {
    "name": "ipython",
    "version": 3
   },
   "file_extension": ".py",
   "mimetype": "text/x-python",
   "name": "python",
   "nbconvert_exporter": "python",
   "pygments_lexer": "ipython3",
   "version": "3.10.2"
  },
  "orig_nbformat": 4
 },
 "nbformat": 4,
 "nbformat_minor": 2
}
